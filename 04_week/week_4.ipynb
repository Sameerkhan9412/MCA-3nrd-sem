{
 "cells": [
  {
   "cell_type": "markdown",
   "id": "2e33d612",
   "metadata": {},
   "source": [
    "Q1. Write a program to create a function cal_sum_sub() that accepts two variables and\n",
    "calculates addition and subtraction. Also, it must return both addition and subtraction\n",
    "in a single return call."
   ]
  },
  {
   "cell_type": "code",
   "execution_count": 3,
   "id": "dbadfb11",
   "metadata": {},
   "outputs": [
    {
     "name": "stdout",
     "output_type": "stream",
     "text": [
      "sum is 10 and sub is -2\n"
     ]
    }
   ],
   "source": [
    "def calSumSub(num1,num2):\n",
    "    sum=num1+num2\n",
    "    sub=num1-num2\n",
    "    return sum,sub\n",
    "\n",
    "num1=int(input(\"enter first num:\"));\n",
    "num2=int(input(\"enter second num:\"))\n",
    "sum,sub=calSumSub(num1,num2)\n",
    "print(f\"sum is {sum} and sub is {sub}\")"
   ]
  },
  {
   "cell_type": "markdown",
   "id": "4fc469b7",
   "metadata": {},
   "source": [
    "Q2 Write a function to return True if the first and last number of a given list are the same.\n",
    "If the numbers are different, return False."
   ]
  },
  {
   "cell_type": "code",
   "execution_count": 19,
   "id": "d6f4e616",
   "metadata": {},
   "outputs": [
    {
     "name": "stdout",
     "output_type": "stream",
     "text": [
      "s=1\te=1\n",
      "True\n"
     ]
    }
   ],
   "source": [
    "def isSame(myList):\n",
    "    length=len(myList)\n",
    "    if(length<2):\n",
    "        return False;\n",
    "    s=myList[0];\n",
    "    e=myList[length-1];\n",
    "    print(f\"s={s}\\te={e}\")\n",
    "    if(s==e):\n",
    "        return True;\n",
    "    return False\n",
    "\n",
    "myList=[1,2,4,5,6,33,1]\n",
    "# myList=[3,6,4,5,7,9]\n",
    "print(isSame(myList))"
   ]
  },
  {
   "cell_type": "markdown",
   "id": "666226f5",
   "metadata": {},
   "source": [
    "Q3. Given a list of numbers, write a program to turn every item of the list into its square."
   ]
  },
  {
   "cell_type": "code",
   "execution_count": 22,
   "id": "f083e8bf",
   "metadata": {},
   "outputs": [
    {
     "name": "stdout",
     "output_type": "stream",
     "text": [
      "[1, 529, 16, 25, 36, 49, 64]\n"
     ]
    }
   ],
   "source": [
    "def turnSquare(myList):\n",
    "    for i in range(len(myList)):\n",
    "       myList[i]*=myList[i]\n",
    "myList=[1,23,4,5,6,7,8];\n",
    "turnSquare(myList)\n",
    "print(myList)"
   ]
  },
  {
   "cell_type": "markdown",
   "id": "fe6e1794",
   "metadata": {},
   "source": [
    "Q4. Given two Python lists, write a program to iterate both lists simultaneously and display items from list 1 in original order and items from list 2 in reverse order."
   ]
  },
  {
   "cell_type": "code",
   "execution_count": 30,
   "id": "05442123",
   "metadata": {},
   "outputs": [
    {
     "name": "stdout",
     "output_type": "stream",
     "text": [
      "List1: 1 List2: 50\n",
      "List1: 2 List2: 40\n",
      "List1: 3 List2: 30\n",
      "List1: 4 List2: 20\n",
      "List1: 5 List2: 10\n",
      "List1: 6 List2: None\n"
     ]
    }
   ],
   "source": [
    "list1 = [1, 2, 3, 4, 5, 6]\n",
    "list2 = [10, 20, 30,40,50]\n",
    "\n",
    "max_len = max(len(list1), len(list2))\n",
    "\n",
    "for i in range(max_len):\n",
    "    \n",
    "    if i < len(list1):\n",
    "        print(\"List1:\", list1[i], end=' ')\n",
    "    else:\n",
    "        print(\"List1: None\", end=' ')\n",
    "    if i < len(list2):\n",
    "        print(\"List2:\", list2[-(i+1)])\n",
    "    else:\n",
    "        print(\"List2: None\")\n"
   ]
  },
  {
   "cell_type": "markdown",
   "id": "4b0a4993",
   "metadata": {},
   "source": [
    "Q5. Write a program to count the number of occurrences of item 50 in the tuple tp1 = (50,\n",
    "10, 60, 70, 50)."
   ]
  },
  {
   "cell_type": "code",
   "execution_count": 42,
   "id": "646eca32",
   "metadata": {},
   "outputs": [
    {
     "name": "stdout",
     "output_type": "stream",
     "text": [
      "no of occurence for 50 is 2\n"
     ]
    }
   ],
   "source": [
    "n=50;\n",
    "myList=[10,20,30,40,50,30,50]\n",
    "count=0;\n",
    "for i in range(len(myList)):\n",
    "    if myList[i]==n:\n",
    "        count=count+1;\n",
    "print(f\"no of occurence for {n} is {count}\")"
   ]
  }
 ],
 "metadata": {
  "kernelspec": {
   "display_name": "Python 3",
   "language": "python",
   "name": "python3"
  },
  "language_info": {
   "codemirror_mode": {
    "name": "ipython",
    "version": 3
   },
   "file_extension": ".py",
   "mimetype": "text/x-python",
   "name": "python",
   "nbconvert_exporter": "python",
   "pygments_lexer": "ipython3",
   "version": "3.10.4"
  }
 },
 "nbformat": 4,
 "nbformat_minor": 5
}

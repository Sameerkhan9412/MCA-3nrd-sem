{
 "cells": [
  {
   "cell_type": "markdown",
   "id": "d010b5ad",
   "metadata": {},
   "source": [
    "Q1 Write a program to generate a 6-digit random secure OTP"
   ]
  },
  {
   "cell_type": "code",
   "execution_count": 6,
   "id": "f0ea13c2",
   "metadata": {},
   "outputs": [
    {
     "name": "stdout",
     "output_type": "stream",
     "text": [
      "Original OTP: GufjMe\n",
      "Encrypted OTP: JximPh\n",
      "Decrypted OTP: GufjMe\n"
     ]
    }
   ],
   "source": [
    "import random\n",
    "\n",
    "characters = 'ABCDEFGHIJKLMNOPQRSTUVWXYZabcdefghijklmnopqrstuvwxyz0123456789'\n",
    "\n",
    "# Generate OTP\n",
    "otp = ''\n",
    "for _ in range(6):\n",
    "    otp += random.choice(characters)\n",
    "\n",
    "print(\"Original OTP:\", otp)\n",
    "\n",
    "# Caesar cipher shift value\n",
    "shift = 3\n",
    "\n",
    "def caesar_encrypt(text, shift):\n",
    "    encrypted = ''\n",
    "    for char in text:\n",
    "        if char.isdigit():\n",
    "            # Shift digits (0-9)\n",
    "            encrypted += str((int(char) + shift) % 10)\n",
    "        elif char.isalpha():\n",
    "            # Shift letters\n",
    "            if char.isupper():\n",
    "                base = ord('A')\n",
    "            else:\n",
    "                base = ord('a')\n",
    "            # Shift within alphabet\n",
    "            encrypted += chr((ord(char) - base + shift) % 26 + base)\n",
    "        else:\n",
    "            # For any other character (if any), keep as is\n",
    "            encrypted += char\n",
    "    return encrypted\n",
    "\n",
    "def caesar_decrypt(text, shift):\n",
    "    return caesar_encrypt(text, -shift)\n",
    "\n",
    "# Encrypt OTP\n",
    "encrypted_otp = caesar_encrypt(otp, shift)\n",
    "print(\"Encrypted OTP:\", encrypted_otp)\n",
    "\n",
    "# Decrypt OTP (to verify)\n",
    "decrypted_otp = caesar_decrypt(encrypted_otp, shift)\n",
    "print(\"Decrypted OTP:\", decrypted_otp)\n"
   ]
  },
  {
   "cell_type": "markdown",
   "id": "12e8071b",
   "metadata": {},
   "source": [
    "Q2. Write a program to pick a random character from a user-supplied string"
   ]
  },
  {
   "cell_type": "code",
   "execution_count": 7,
   "id": "e00f24c5",
   "metadata": {},
   "outputs": [
    {
     "name": "stdout",
     "output_type": "stream",
     "text": [
      "Random character is: e\n"
     ]
    }
   ],
   "source": [
    "import random\n",
    "\n",
    "user_input = input(\"Enter a string: \")\n",
    "random_char = random.choice(user_input)\n",
    "\n",
    "print(\"Random character is:\", random_char)\n"
   ]
  },
  {
   "cell_type": "markdown",
   "id": "0504fc11",
   "metadata": {},
   "source": [
    "Q3. Write a program to generate a random password that meets the following conditions:<br/>\n",
    "a. Password length must be 10 characters long.<br/>\n",
    "b. It must contain at least 2 uppercase letters, 1 digit, and 1 special symbol."
   ]
  },
  {
   "cell_type": "code",
   "execution_count": null,
   "id": "62a79805",
   "metadata": {},
   "outputs": [
    {
     "name": "stdout",
     "output_type": "stream",
     "text": [
      "Generated Password: $sam2samGsam8sam7samRsamhsamrsam!samP\n"
     ]
    }
   ],
   "source": [
    "import random\n",
    "\n",
    "uppercase = 'ABCDEFGHIJKLMNOPQRSTUVWXYZ'\n",
    "lowercase = 'abcdefghijklmnopqrstuvwxyz'\n",
    "digits = '0123456789'\n",
    "symbols = '!@#$%&*?'\n",
    "\n",
    "# Required characters\n",
    "password = [\n",
    "    random.choice(uppercase),\n",
    "    random.choice(uppercase),\n",
    "    random.choice(digits),\n",
    "    random.choice(symbols)\n",
    "]\n",
    "\n",
    "# Fill remaining characters\n",
    "all_chars = uppercase + lowercase + digits + symbols\n",
    "for i in range(6):\n",
    "    password.append(random.choice(all_chars))\n",
    "\n",
    "# Shuffle to mix the characters\n",
    "random.shuffle(password)\n",
    "\n",
    "# Join and print\n",
    "print(\"Generated Password:\", ''.join(password))\n"
   ]
  },
  {
   "cell_type": "markdown",
   "id": "b7559714",
   "metadata": {},
   "source": [
    "Q4. Given two lists of numbers, write a program to create a new list containing odd\n",
    "numbers from the first list and even numbers from the second list."
   ]
  },
  {
   "cell_type": "code",
   "execution_count": 9,
   "id": "3e415b68",
   "metadata": {},
   "outputs": [
    {
     "name": "stdout",
     "output_type": "stream",
     "text": [
      "Resulting list: [1, 3, 5, 10, 12, 14]\n"
     ]
    }
   ],
   "source": [
    "# Example input lists\n",
    "list1 = [1, 2, 3, 4, 5]\n",
    "list2 = [10, 11, 12, 13, 14]\n",
    "\n",
    "# Extract odd from list1\n",
    "odd_from_list1 = [x for x in list1 if x % 2 != 0]\n",
    "\n",
    "# Extract even from list2\n",
    "even_from_list2 = [x for x in list2 if x % 2 == 0]\n",
    "\n",
    "# Combine both\n",
    "result = odd_from_list1 + even_from_list2\n",
    "\n",
    "# Output result\n",
    "print(\"Resulting list:\", result)\n"
   ]
  },
  {
   "cell_type": "markdown",
   "id": "3c4af01f",
   "metadata": {},
   "source": [
    "Q5. Write a program to create a numpy array and return an array of odd rows and even\n",
    "columns from the numpy array."
   ]
  },
  {
   "cell_type": "code",
   "execution_count": 12,
   "id": "07f01da4",
   "metadata": {},
   "outputs": [
    {
     "name": "stdout",
     "output_type": "stream",
     "text": [
      "Original Array:\n",
      "[[ 1  2  3  4  5  6]\n",
      " [ 7  8  9 10 11 12]\n",
      " [13 14 15 16 17 18]\n",
      " [19 20 21 22 23 24]\n",
      " [25 26 27 28 29 30]\n",
      " [31 32 33 34 35 36]]\n",
      "\n",
      "Odd Rows and Even Columns:\n",
      "[[ 7  9 11]\n",
      " [19 21 23]\n",
      " [31 33 35]]\n"
     ]
    }
   ],
   "source": [
    "import numpy as np\n",
    "\n",
    "arr = np.arange(1, 37).reshape(6, 6)\n",
    "\n",
    "print(\"Original Array:\")\n",
    "print(arr)\n",
    "\n",
    "result = arr[1::2, ::2]\n",
    "\n",
    "print(\"\\nOdd Rows and Even Columns:\")\n",
    "print(result)\n"
   ]
  },
  {
   "cell_type": "markdown",
   "id": "ffcc29a9",
   "metadata": {},
   "source": [
    "Q6 Write a program to create a numpy array and sort it as per the following cases:<br/>\n",
    "a. Case 1: Sort the array by the second row.</br>\n",
    "b. Case 2: Sort the array by the second column"
   ]
  },
  {
   "cell_type": "code",
   "execution_count": 13,
   "id": "576303fd",
   "metadata": {},
   "outputs": [
    {
     "name": "stdout",
     "output_type": "stream",
     "text": [
      "Original Array:\n",
      "[[34 12 25]\n",
      " [88 55 66]\n",
      " [91 11 45]]\n",
      "\n",
      "Array Sorted by Second Row:\n",
      "[[12 25 34]\n",
      " [55 66 88]\n",
      " [11 45 91]]\n",
      "\n",
      "Array Sorted by Second Column:\n",
      "[[91 11 45]\n",
      " [34 12 25]\n",
      " [88 55 66]]\n"
     ]
    }
   ],
   "source": [
    "import numpy as np\n",
    "\n",
    "# Create a sample 2D numpy array\n",
    "arr = np.array([[34, 12, 25],\n",
    "                [88, 55, 66],\n",
    "                [91, 11, 45]])\n",
    "\n",
    "print(\"Original Array:\")\n",
    "print(arr)\n",
    "\n",
    "sorted_indices_row = np.argsort(arr[1])\n",
    "sorted_by_second_row = arr[:, sorted_indices_row]\n",
    "\n",
    "print(\"\\nArray Sorted by Second Row:\")\n",
    "print(sorted_by_second_row)\n",
    "\n",
    "sorted_indices_col = np.argsort(arr[:, 1])\n",
    "sorted_by_second_col = arr[sorted_indices_col]\n",
    "\n",
    "print(\"\\nArray Sorted by Second Column:\")\n",
    "print(sorted_by_second_col)\n"
   ]
  }
 ],
 "metadata": {
  "kernelspec": {
   "display_name": ".venv (3.10.4)",
   "language": "python",
   "name": "python3"
  },
  "language_info": {
   "codemirror_mode": {
    "name": "ipython",
    "version": 3
   },
   "file_extension": ".py",
   "mimetype": "text/x-python",
   "name": "python",
   "nbconvert_exporter": "python",
   "pygments_lexer": "ipython3",
   "version": "3.10.4"
  }
 },
 "nbformat": 4,
 "nbformat_minor": 5
}

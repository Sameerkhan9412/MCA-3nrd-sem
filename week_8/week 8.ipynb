{
 "cells": [
  {
   "cell_type": "markdown",
   "id": "3668d03f",
   "metadata": {},
   "source": [
    "Q1 . Display detailed information about files using ls -l and other ls options."
   ]
  },
  {
   "cell_type": "markdown",
   "id": "05b3c0ac",
   "metadata": {},
   "source": [
    "Introduction: In Linux, the ls command is one of the most commonly used commands. It is used to list the contents of a directory, such as files, folders, and links.\n",
    "However, the way it displays this information depends on the options (flags) used with it.\n",
    "Two commands that often cause confusion are ls -l and ls l. Although they look similar, their meanings are completely different.\n",
    "\n",
    "The ls -l Command: The -l flag stands for long listing format. When used, it tells ls to display detailed information about each file and directory.\n",
    "Syntax: ls -l\n",
    "Purpose: Use ls -l when you want to see detailed information about files — including permissions, owner, group, size, and modification date."
   ]
  },
  {
   "cell_type": "markdown",
   "id": "92cd03d3",
   "metadata": {},
   "source": [
    "Q2. Change file ownership using chown and group ownership using chgrp."
   ]
  },
  {
   "cell_type": "code",
   "execution_count": null,
   "id": "17864b67",
   "metadata": {},
   "outputs": [],
   "source": [
    "sudo chown alice report.txt -> use for changing file ownership\n",
    "sudo chgrp developers report.txt -> used for changing group owernership"
   ]
  },
  {
   "cell_type": "markdown",
   "id": "39e0c0dd",
   "metadata": {},
   "source": [
    "Q3. Modify file and directory permissions using chmod."
   ]
  },
  {
   "cell_type": "markdown",
   "id": "006deca6",
   "metadata": {},
   "source": [
    "chmod stands for change mode and it changes the permissions of files or directories.\n",
    "Permissions control who can read (r), write (w), and execute (x) a file or directory.\n",
    "\n",
    "+ adds permission\n",
    "- removes permission\n",
    "= sets exact permission (removes others)\n",
    "\n",
    "\n",
    "Examples:\n",
    "\n",
    "chmod u+x filename: Add execute permission to user (owner) on a file\n",
    "chmod g-w filename: Remove write permission from group:\n",
    "chmod a=rw filename:Set read and write for everyone, but no execute:\n"
   ]
  },
  {
   "cell_type": "markdown",
   "id": "2657e8ed",
   "metadata": {},
   "source": [
    "Q4. Demonstrate how to set and remove directory permissions.\n",
    "1. Set directory permissions example\n",
    "Say we want to make a directory called mydir: chmod 755 mydir\n",
    "Effect:\n",
    "Owner: read, write, execute (full access)\n",
    "Group: read, execute (can list and enter)\n",
    "Others: read, execute (can list and enter)\n",
    "Owner can add/remove files, others can just view/list.\n",
    "\n",
    "2. Remove write permission from group and others:chmod go-w mydir\n",
    "Effect:Group and others cannot create or delete files inside mydir anymore, but can still list and enter (if they have execute)."
   ]
  }
 ],
 "metadata": {
  "language_info": {
   "name": "python"
  }
 },
 "nbformat": 4,
 "nbformat_minor": 5
}

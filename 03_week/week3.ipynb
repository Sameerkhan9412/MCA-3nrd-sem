{
 "cells": [
  {
   "cell_type": "markdown",
   "id": "c1296e78",
   "metadata": {},
   "source": [
    "Q1 Write a program to print the following pattern using the for loop:\n",
    "    5 4 3 2 1\n",
    "    4 3 2 1\n",
    "    3 2 1\n",
    "    2 1\n",
    "    1"
   ]
  },
  {
   "cell_type": "code",
   "execution_count": 29,
   "id": "61250735",
   "metadata": {},
   "outputs": [
    {
     "name": "stdout",
     "output_type": "stream",
     "text": [
      "5  4  3  2  1  \n",
      "\n",
      "4  3  2  1  \n",
      "\n",
      "3  2  1  \n",
      "\n",
      "2  1  \n",
      "\n",
      "1  \n",
      "\n"
     ]
    }
   ],
   "source": [
    "num=int(input(\"enter number here:\"))\n",
    "i=num;\n",
    "while i>0:\n",
    "    j=i\n",
    "    while(j>0):\n",
    "        print(f\"{j} \", end=' ')\n",
    "        j=j-1\n",
    "    print(\"\\n\")\n",
    "    i=i-1"
   ]
  },
  {
   "cell_type": "markdown",
   "id": "c8056c2c",
   "metadata": {},
   "source": [
    "Q2 Write a program to print the following star pattern using the for loop:\n",
    "```\n",
    "*\n",
    "**\n",
    "***\n",
    "****\n",
    "*****\n",
    "****\n",
    "***\n",
    "**\n",
    "*\n",
    "\n",
    "```"
   ]
  },
  {
   "cell_type": "code",
   "execution_count": 4,
   "id": "f51d75ba",
   "metadata": {},
   "outputs": [
    {
     "ename": "KeyboardInterrupt",
     "evalue": "Interrupted by user",
     "output_type": "error",
     "traceback": [
      "\u001b[1;31m---------------------------------------------------------------------------\u001b[0m",
      "\u001b[1;31mKeyboardInterrupt\u001b[0m                         Traceback (most recent call last)",
      "Cell \u001b[1;32mIn[4], line 1\u001b[0m\n\u001b[1;32m----> 1\u001b[0m num\u001b[38;5;241m=\u001b[39m\u001b[38;5;28mint\u001b[39m(\u001b[38;5;28;43minput\u001b[39;49m\u001b[43m(\u001b[49m\u001b[38;5;124;43m\"\u001b[39;49m\u001b[38;5;124;43menter number here\u001b[39;49m\u001b[38;5;124;43m\"\u001b[39;49m\u001b[43m)\u001b[49m)\n\u001b[0;32m      2\u001b[0m \u001b[38;5;28;01mfor\u001b[39;00m i \u001b[38;5;129;01min\u001b[39;00m \u001b[38;5;28mrange\u001b[39m(\u001b[38;5;241m1\u001b[39m,num\u001b[38;5;241m+\u001b[39m\u001b[38;5;241m1\u001b[39m):\n\u001b[0;32m      3\u001b[0m     \u001b[38;5;28;01mfor\u001b[39;00m j \u001b[38;5;129;01min\u001b[39;00m \u001b[38;5;28mrange\u001b[39m(\u001b[38;5;241m1\u001b[39m,i):\n",
      "File \u001b[1;32mc:\\ProgramData\\spyder-6\\envs\\spyder-runtime\\Lib\\site-packages\\ipykernel\\kernelbase.py:1282\u001b[0m, in \u001b[0;36mKernel.raw_input\u001b[1;34m(self, prompt)\u001b[0m\n\u001b[0;32m   1280\u001b[0m     msg \u001b[38;5;241m=\u001b[39m \u001b[38;5;124m\"\u001b[39m\u001b[38;5;124mraw_input was called, but this frontend does not support input requests.\u001b[39m\u001b[38;5;124m\"\u001b[39m\n\u001b[0;32m   1281\u001b[0m     \u001b[38;5;28;01mraise\u001b[39;00m StdinNotImplementedError(msg)\n\u001b[1;32m-> 1282\u001b[0m \u001b[38;5;28;01mreturn\u001b[39;00m \u001b[38;5;28;43mself\u001b[39;49m\u001b[38;5;241;43m.\u001b[39;49m\u001b[43m_input_request\u001b[49m\u001b[43m(\u001b[49m\n\u001b[0;32m   1283\u001b[0m \u001b[43m    \u001b[49m\u001b[38;5;28;43mstr\u001b[39;49m\u001b[43m(\u001b[49m\u001b[43mprompt\u001b[49m\u001b[43m)\u001b[49m\u001b[43m,\u001b[49m\n\u001b[0;32m   1284\u001b[0m \u001b[43m    \u001b[49m\u001b[38;5;28;43mself\u001b[39;49m\u001b[38;5;241;43m.\u001b[39;49m\u001b[43m_parent_ident\u001b[49m\u001b[43m[\u001b[49m\u001b[38;5;124;43m\"\u001b[39;49m\u001b[38;5;124;43mshell\u001b[39;49m\u001b[38;5;124;43m\"\u001b[39;49m\u001b[43m]\u001b[49m\u001b[43m,\u001b[49m\n\u001b[0;32m   1285\u001b[0m \u001b[43m    \u001b[49m\u001b[38;5;28;43mself\u001b[39;49m\u001b[38;5;241;43m.\u001b[39;49m\u001b[43mget_parent\u001b[49m\u001b[43m(\u001b[49m\u001b[38;5;124;43m\"\u001b[39;49m\u001b[38;5;124;43mshell\u001b[39;49m\u001b[38;5;124;43m\"\u001b[39;49m\u001b[43m)\u001b[49m\u001b[43m,\u001b[49m\n\u001b[0;32m   1286\u001b[0m \u001b[43m    \u001b[49m\u001b[43mpassword\u001b[49m\u001b[38;5;241;43m=\u001b[39;49m\u001b[38;5;28;43;01mFalse\u001b[39;49;00m\u001b[43m,\u001b[49m\n\u001b[0;32m   1287\u001b[0m \u001b[43m\u001b[49m\u001b[43m)\u001b[49m\n",
      "File \u001b[1;32mc:\\ProgramData\\spyder-6\\envs\\spyder-runtime\\Lib\\site-packages\\ipykernel\\kernelbase.py:1325\u001b[0m, in \u001b[0;36mKernel._input_request\u001b[1;34m(self, prompt, ident, parent, password)\u001b[0m\n\u001b[0;32m   1322\u001b[0m \u001b[38;5;28;01mexcept\u001b[39;00m \u001b[38;5;167;01mKeyboardInterrupt\u001b[39;00m:\n\u001b[0;32m   1323\u001b[0m     \u001b[38;5;66;03m# re-raise KeyboardInterrupt, to truncate traceback\u001b[39;00m\n\u001b[0;32m   1324\u001b[0m     msg \u001b[38;5;241m=\u001b[39m \u001b[38;5;124m\"\u001b[39m\u001b[38;5;124mInterrupted by user\u001b[39m\u001b[38;5;124m\"\u001b[39m\n\u001b[1;32m-> 1325\u001b[0m     \u001b[38;5;28;01mraise\u001b[39;00m \u001b[38;5;167;01mKeyboardInterrupt\u001b[39;00m(msg) \u001b[38;5;28;01mfrom\u001b[39;00m\u001b[38;5;250m \u001b[39m\u001b[38;5;28;01mNone\u001b[39;00m\n\u001b[0;32m   1326\u001b[0m \u001b[38;5;28;01mexcept\u001b[39;00m \u001b[38;5;167;01mException\u001b[39;00m:\n\u001b[0;32m   1327\u001b[0m     \u001b[38;5;28mself\u001b[39m\u001b[38;5;241m.\u001b[39mlog\u001b[38;5;241m.\u001b[39mwarning(\u001b[38;5;124m\"\u001b[39m\u001b[38;5;124mInvalid Message:\u001b[39m\u001b[38;5;124m\"\u001b[39m, exc_info\u001b[38;5;241m=\u001b[39m\u001b[38;5;28;01mTrue\u001b[39;00m)\n",
      "\u001b[1;31mKeyboardInterrupt\u001b[0m: Interrupted by user"
     ]
    }
   ],
   "source": [
    "num=int(input(\"enter number here\"))\n",
    "for i in range(1,num+1):\n",
    "    for j in range(1,i):\n",
    "        print(\"*\",end=\" \")\n",
    "    print(\"\\n\")\n",
    "\n",
    "for i in range(num+1,0,-1):\n",
    "    for j in range(1,i):\n",
    "        print(\"*\",end=\" \")\n",
    "    print(\"\\n\")"
   ]
  },
  {
   "cell_type": "markdown",
   "id": "3a96ed6c",
   "metadata": {},
   "source": [
    "Q3. Write a program to print characters from a string which are present at even index\n",
    "numbers."
   ]
  },
  {
   "cell_type": "code",
   "execution_count": null,
   "id": "ec240790",
   "metadata": {},
   "outputs": [
    {
     "name": "stdout",
     "output_type": "stream",
     "text": [
      "your input string is sameer khan\n",
      "s  m  e     h  n  "
     ]
    }
   ],
   "source": [
    "myStr=\"sameer khan\"\n",
    "print(f\"your input string is {myStr}\")\n",
    "i=0;\n",
    "while(i<len(myStr)):\n",
    "    if(i%2==0):\n",
    "        print(f\"{myStr[i]} \",end=\" \")\n",
    "    i=i+1;"
   ]
  },
  {
   "cell_type": "markdown",
   "id": "29922780",
   "metadata": {},
   "source": [
    "Q4 Write a program to accept a string from the user and display characters that are present\n",
    "at even index numbers."
   ]
  },
  {
   "cell_type": "code",
   "execution_count": null,
   "id": "c1f19d68",
   "metadata": {},
   "outputs": [],
   "source": [
    "myStr=input(\"enter your string\");\n",
    "print(f\"your input string is {myStr}\")\n",
    "i=0;\n",
    "while(i<len(myStr)):\n",
    "    if(i%2==0):\n",
    "        print(f\"{myStr[i]} \",end=\" \")\n",
    "    i=i+1;"
   ]
  },
  {
   "cell_type": "markdown",
   "id": "b1906b18",
   "metadata": {},
   "source": [
    "Q5 Write a program to remove characters from a string starting from the nth position to\n",
    "the last and return a new string. Example: remove_chars(\"aligarh\", 3) should output\n",
    "ali."
   ]
  },
  {
   "cell_type": "code",
   "execution_count": null,
   "id": "c5d21805",
   "metadata": {},
   "outputs": [
    {
     "name": "stdout",
     "output_type": "stream",
     "text": [
      "sam\n",
      "eer khan\n"
     ]
    }
   ],
   "source": [
    "def remove_chars(str,pos):\n",
    "    ans=\"\";\n",
    "    print(subStr(str,pos));\n",
    "    print(subStr(str,pos+1))\n",
    "    i=0;\n",
    "    while i<pos:\n",
    "        ans+=str[i];\n",
    "        i=i+1;\n",
    "    print(ans);\n",
    "    subStr=\"\";\n",
    "    while i<len(str):\n",
    "        subStr+=str[i];\n",
    "        i=i+1;\n",
    "    print(subStr)\n",
    "myStr=input(\"enter string here\");\n",
    "position=int(input(\"enter position args\"));\n",
    "remove_chars(myStr,position)\n"
   ]
  }
 ],
 "metadata": {
  "kernelspec": {
   "display_name": "spyder-runtime",
   "language": "python",
   "name": "python3"
  },
  "language_info": {
   "codemirror_mode": {
    "name": "ipython",
    "version": 3
   },
   "file_extension": ".py",
   "mimetype": "text/x-python",
   "name": "python",
   "nbconvert_exporter": "python",
   "pygments_lexer": "ipython3",
   "version": "3.11.12"
  }
 },
 "nbformat": 4,
 "nbformat_minor": 5
}

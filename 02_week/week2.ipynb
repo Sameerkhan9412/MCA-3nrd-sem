{
 "cells": [
  {
   "cell_type": "markdown",
   "id": "163585c0",
   "metadata": {},
   "source": [
    "Q1 Write a program to extract each digit from an integer in reverse order."
   ]
  },
  {
   "cell_type": "code",
   "execution_count": null,
   "id": "20c4d568",
   "metadata": {},
   "outputs": [
    {
     "name": "stdout",
     "output_type": "stream",
     "text": [
      "your number is 45678654\n",
      "4 \n",
      "5 \n",
      "6 \n",
      "8 \n",
      "7 \n",
      "6 \n",
      "5 \n",
      "4 \n"
     ]
    }
   ],
   "source": [
    "num=int(input(\"enter number here\"))\n",
    "# 12345\n",
    "print(f\"your number is {num}\")\n",
    "while num>0:\n",
    "    temp=num%10;\n",
    "    print(f\"{temp} \")\n",
    "\n",
    "    num=num//10"
   ]
  },
  {
   "cell_type": "markdown",
   "id": "964a92db",
   "metadata": {},
   "source": [
    "Q2 Write a program to count the total number of digits in a number using a while loop."
   ]
  },
  {
   "cell_type": "code",
   "execution_count": 7,
   "id": "39ac05df",
   "metadata": {},
   "outputs": [
    {
     "name": "stdout",
     "output_type": "stream",
     "text": [
      "your number is 473934783\n",
      "your digit count is 9\n"
     ]
    }
   ],
   "source": [
    "num=int(input(\"enter number here\"))\n",
    "12345\n",
    "print(f\"your number is {num}\")\n",
    "count=0;\n",
    "while num>0:\n",
    "    num=num//10\n",
    "    count=count+1\n",
    "    \n",
    "print(f\"your digit count is {count}\")"
   ]
  },
  {
   "cell_type": "markdown",
   "id": "1ab4a274",
   "metadata": {},
   "source": [
    "Q3 Write a program to display all prime numbers within a range."
   ]
  },
  {
   "cell_type": "code",
   "execution_count": 19,
   "id": "d2201603",
   "metadata": {},
   "outputs": [
    {
     "name": "stdout",
     "output_type": "stream",
     "text": [
      "11 \n",
      "13 \n",
      "17 \n",
      "19 \n",
      "23 \n",
      "29 \n",
      "31 \n",
      "37 \n"
     ]
    }
   ],
   "source": [
    "num1=int(input(\"enter starting point:\"))\n",
    "num2=int(input(\"enter ending point:\"))\n",
    "for i in range(num1,num2+1):\n",
    "    count=0\n",
    "    for j in range(1,i):\n",
    "        if(i%j==0):\n",
    "            count=count+1\n",
    "    if(count<2):\n",
    "        print(f\"{i} \")\n"
   ]
  },
  {
   "cell_type": "markdown",
   "id": "26f6f78a",
   "metadata": {},
   "source": [
    "Q4 Write a program to use a loop to find the factorial of a given number."
   ]
  },
  {
   "cell_type": "code",
   "execution_count": 22,
   "id": "98b96cf2",
   "metadata": {},
   "outputs": [
    {
     "name": "stdout",
     "output_type": "stream",
     "text": [
      "the factorial of 4 is 24\n"
     ]
    }
   ],
   "source": [
    "num=int(input(\"Enter number :\"))\n",
    "if num<=0:\n",
    "    print(\"enter valid number\")\n",
    "else:\n",
    "    ans=1;\n",
    "    for i in range(1,num+1):\n",
    "        ans*=i\n",
    "        \n",
    "print(f\"the factorial of {num} is {ans}\")\n",
    "    "
   ]
  },
  {
   "cell_type": "markdown",
   "id": "181d4378",
   "metadata": {},
   "source": [
    "Q5 Write a program to find the sum of the digits of a supplied integer."
   ]
  },
  {
   "cell_type": "code",
   "execution_count": null,
   "id": "7656b654",
   "metadata": {},
   "outputs": [
    {
     "name": "stdout",
     "output_type": "stream",
     "text": [
      "your number is 4567843\n",
      "your digit sum is 37\n"
     ]
    }
   ],
   "source": [
    "num=int(input(\"enter number here\"))\n",
    "print(f\"your number is {num}\")\n",
    "sum=0\n",
    "while num>0:\n",
    "    temp=num%10\n",
    "    sum+=temp\n",
    "    num=num//10\n",
    "    \n",
    "print(f\"your digit sum is {sum}\")"
   ]
  }
 ],
 "metadata": {
  "kernelspec": {
   "display_name": "Python 3",
   "language": "python",
   "name": "python3"
  },
  "language_info": {
   "codemirror_mode": {
    "name": "ipython",
    "version": 3
   },
   "file_extension": ".py",
   "mimetype": "text/x-python",
   "name": "python",
   "nbconvert_exporter": "python",
   "pygments_lexer": "ipython3",
   "version": "3.10.4"
  }
 },
 "nbformat": 4,
 "nbformat_minor": 5
}

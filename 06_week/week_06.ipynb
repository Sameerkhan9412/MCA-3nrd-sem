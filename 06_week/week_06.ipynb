{
 "cells": [
  {
   "cell_type": "markdown",
   "id": "758192a4",
   "metadata": {},
   "source": [
    "Q1 Write a Python program that inputs two tuples and creates a third that contains all \n",
    "elements of the first followed by all elements of the second."
   ]
  },
  {
   "cell_type": "code",
   "execution_count": 1,
   "id": "54fd3bd4",
   "metadata": {},
   "outputs": [
    {
     "name": "stdout",
     "output_type": "stream",
     "text": [
      "\n",
      "First Tuple: ('1', '2', '3', '4', '5')\n",
      "Second Tuple: ('2', '3', '4', '5', '6', '7')\n",
      "Combined Tuple: ('1', '2', '3', '4', '5', '2', '3', '4', '5', '6', '7')\n"
     ]
    }
   ],
   "source": [
    "# Input two tuples from the user as comma-separated values\n",
    "tuple1_input = input(\"Enter elements of first tuple (comma-separated): \")\n",
    "tuple2_input = input(\"Enter elements of second tuple (comma-separated): \")\n",
    "\n",
    "# Convert input strings to tuples\n",
    "tuple1 = tuple(tuple1_input.split(','))\n",
    "tuple2 = tuple(tuple2_input.split(','))\n",
    "\n",
    "# Combine the tuples\n",
    "combined_tuple = tuple1 + tuple2\n",
    "\n",
    "# Print the result\n",
    "print(\"\\nFirst Tuple:\", tuple1)\n",
    "print(\"Second Tuple:\", tuple2)\n",
    "print(\"Combined Tuple:\", combined_tuple)\n"
   ]
  },
  {
   "cell_type": "markdown",
   "id": "0353741a",
   "metadata": {},
   "source": [
    "Q2 Write a Python program to create a dictionary with names and phone numbers. Then \n",
    "ask the user for a name and print the corresponding phone number."
   ]
  },
  {
   "cell_type": "code",
   "execution_count": 4,
   "id": "0ec793b6",
   "metadata": {},
   "outputs": [
    {
     "name": "stdout",
     "output_type": "stream",
     "text": [
      "Phone number of sameer is: 9876543210\n"
     ]
    }
   ],
   "source": [
    "# Step 1: Create the dictionary with some sample data\n",
    "phone_book = {\n",
    "    \"sameer\": \"9876543210\",\n",
    "    \"bilal\": \"9123456780\",\n",
    "    \"shoaib\": \"9001122334\"\n",
    "}\n",
    "\n",
    "# Step 2: Ask the user to enter a name\n",
    "name = input(\"Enter a name to search for their phone number: \")\n",
    "\n",
    "# Step 3: Search and display the phone number\n",
    "if name in phone_book:\n",
    "    print(f\"Phone number of {name} is: {phone_book[name]}\")\n",
    "else:\n",
    "    print(f\"Sorry, no phone number found for '{name}'.\")\n"
   ]
  },
  {
   "cell_type": "markdown",
   "id": "8b3ef56c",
   "metadata": {},
   "source": [
    "Q3 Write a Python program to calculate the sum of squares of the first two digits and the \n",
    "last two digits of a 4-digit number, e.g., for 1233, calculate 12^2 + 33^2."
   ]
  },
  {
   "cell_type": "code",
   "execution_count": null,
   "id": "d5d6bb5c",
   "metadata": {},
   "outputs": [],
   "source": [
    "number = input(\"Enter a 4-digit number: \")\n",
    "first_two = int(number[:2])  # characters 0 and 1\n",
    "last_two = int(number[2:])   # characters 2 and 3\n",
    "\n",
    "result = first_two**2 + last_two**2\n",
    "\n",
    "print(f\"Sum of squares of {first_two} and {last_two} is: {result}\")\n"
   ]
  },
  {
   "cell_type": "markdown",
   "id": "b1a9fc8f",
   "metadata": {},
   "source": [
    "Q4 Write a program that inputs a main string and creates an encrypted string by \n",
    "embedding a short symbol-based string after each character. The program should also \n",
    "decrypt the string."
   ]
  },
  {
   "cell_type": "code",
   "execution_count": 5,
   "id": "fa627785",
   "metadata": {},
   "outputs": [
    {
     "name": "stdout",
     "output_type": "stream",
     "text": [
      "\n",
      "Encrypted string: h#$%i#$% #$%k#$%a#$%i#$%s#$%e#$% #$%h#$%o#$%\n",
      "Decrypted string: hi kaise ho\n"
     ]
    }
   ],
   "source": [
    "symbol = \"#$%\"\n",
    "\n",
    "# Step 1: Input the main string\n",
    "main_string = input(\"Enter the main string to encrypt: \")\n",
    "\n",
    "# Step 2: Encrypt the string\n",
    "def encrypt(text, symbol):\n",
    "    encrypted = ''\n",
    "    for char in text:\n",
    "        encrypted += char + symbol\n",
    "    return encrypted\n",
    "\n",
    "# Step 3: Decrypt the string\n",
    "def decrypt(encrypted_text, symbol):\n",
    "    decrypted = ''\n",
    "    symbol_length = len(symbol)\n",
    "    \n",
    "    # Go through the encrypted text, skipping the symbol parts\n",
    "    i = 0\n",
    "    while i < len(encrypted_text):\n",
    "        decrypted += encrypted_text[i]\n",
    "        i += 1 + symbol_length\n",
    "    return decrypted\n",
    "\n",
    "# Encrypt the string\n",
    "encrypted_string = encrypt(main_string, symbol)\n",
    "print(\"\\nEncrypted string:\", encrypted_string)\n",
    "\n",
    "# Decrypt to verify\n",
    "decrypted_string = decrypt(encrypted_string, symbol)\n",
    "print(\"Decrypted string:\", decrypted_string)\n"
   ]
  },
  {
   "cell_type": "markdown",
   "id": "f8846b4e",
   "metadata": {},
   "source": [
    "Q5 Write a program to get roll numbers, names, and marks of students and store these \n",
    "details in a file called \"Marks.data\". "
   ]
  },
  {
   "cell_type": "code",
   "execution_count": 8,
   "id": "288f6f81",
   "metadata": {},
   "outputs": [
    {
     "name": "stdout",
     "output_type": "stream",
     "text": [
      "\n",
      "Enter details for student 1:\n",
      "\n",
      "Enter details for student 2:\n",
      "\n",
      "Enter details for student 3:\n",
      "\n",
      "Enter details for student 4:\n",
      "\n",
      "Enter details for student 5:\n",
      "\n",
      "Student details have been saved to 'Marks.data'.\n"
     ]
    }
   ],
   "source": [
    "n = int(input(\"Enter the number of students: \"))\n",
    "\n",
    "with open(\"Marks.data\", \"w\") as file:\n",
    "    for i in range(n):\n",
    "        print(f\"\\nEnter details for student {i+1}:\")\n",
    "        roll_no = input(\"Roll Number: \")\n",
    "        name = input(\"Name: \")\n",
    "        marks = input(\"Marks: \")\n",
    "\n",
    "        # Format the details as comma-separated values\n",
    "        record = f\"{roll_no},{name},{marks}\\n\"\n",
    "\n",
    "        # Write the record to the file\n",
    "        file.write(record)\n",
    "\n",
    "print(\"\\nStudent details have been saved to 'Marks.data'.\")\n"
   ]
  },
  {
   "cell_type": "markdown",
   "id": "5c937de1",
   "metadata": {},
   "source": [
    "Q6 Write a program to accept a string and display: <br/>\n",
    "a. Number of uppercase characters <br/>\n",
    "b. Number of lowercase characters <br/>\n",
    "c. Total number of alphabets<br/>\n",
    "d. Number of digits"
   ]
  },
  {
   "cell_type": "code",
   "execution_count": 9,
   "id": "2e78c3b9",
   "metadata": {},
   "outputs": [
    {
     "name": "stdout",
     "output_type": "stream",
     "text": [
      "Number of uppercase characters: 0\n",
      "Number of lowercase characters: 10\n",
      "Total number of alphabets: 10\n",
      "Number of digits: 0\n"
     ]
    }
   ],
   "source": [
    "# Input string from user\n",
    "text = input(\"Enter a string: \")\n",
    "\n",
    "# Initialize counters\n",
    "uppercase_count = 0\n",
    "lowercase_count = 0\n",
    "digit_count = 0\n",
    "\n",
    "# Loop through each character\n",
    "for char in text:\n",
    "    if char.isupper():\n",
    "        uppercase_count += 1\n",
    "    elif char.islower():\n",
    "        lowercase_count += 1\n",
    "    elif char.isdigit():\n",
    "        digit_count += 1\n",
    "\n",
    "# Total alphabets = uppercase + lowercase\n",
    "total_alphabets = uppercase_count + lowercase_count\n",
    "\n",
    "# Display results\n",
    "print(f\"Number of uppercase characters: {uppercase_count}\")\n",
    "print(f\"Number of lowercase characters: {lowercase_count}\")\n",
    "print(f\"Total number of alphabets: {total_alphabets}\")\n",
    "print(f\"Number of digits: {digit_count}\")\n"
   ]
  },
  {
   "cell_type": "markdown",
   "id": "181f6cef",
   "metadata": {},
   "source": [
    "Q7 Create a C program that accepts an IPv4 address and subnet mask in dotted decimal \n",
    "format, and outputs: \n",
    "a. Network ID \n",
    "b. Broadcast Address \n",
    "c. First and Last Host Address \n",
    "d. CIDR notation \n",
    "e. Number of valid hosts \n",
    "f. IP Address Class (A/B/C/D/E)."
   ]
  },
  {
   "cell_type": "code",
   "execution_count": null,
   "id": "3784dfb6",
   "metadata": {},
   "outputs": [],
   "source": []
  }
 ],
 "metadata": {
  "kernelspec": {
   "display_name": ".venv (3.10.4)",
   "language": "python",
   "name": "python3"
  },
  "language_info": {
   "codemirror_mode": {
    "name": "ipython",
    "version": 3
   },
   "file_extension": ".py",
   "mimetype": "text/x-python",
   "name": "python",
   "nbconvert_exporter": "python",
   "pygments_lexer": "ipython3",
   "version": "3.10.4"
  }
 },
 "nbformat": 4,
 "nbformat_minor": 5
}

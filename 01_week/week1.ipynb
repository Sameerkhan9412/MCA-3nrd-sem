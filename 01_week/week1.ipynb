{
 "cells": [
  {
   "cell_type": "markdown",
   "id": "edab0d3a",
   "metadata": {},
   "source": [
    "Q1. Write a program to find the product of two user-supplied integers and if the product is\n",
    "equal to or lower than 5000, then return the sum of the two numbers."
   ]
  },
  {
   "cell_type": "code",
   "execution_count": 49,
   "id": "ebe1e662",
   "metadata": {},
   "outputs": [
    {
     "name": "stdout",
     "output_type": "stream",
     "text": [
      "the number is -1 \n"
     ]
    }
   ],
   "source": [
    "def isValid(product,num1,num2):\n",
    "    if product<=5000:\n",
    "        return num1+num2\n",
    "    else:\n",
    "        return -1\n",
    "num1=int(input(\"Enter first number:\"))\n",
    "num2=int(input(\"Enter second number:\"))\n",
    "product=num1*num2\n",
    "ans=isValid(product,num1,num2)\n",
    "print(f\"the number is {ans} \")"
   ]
  },
  {
   "cell_type": "markdown",
   "id": "c8d85dcb",
   "metadata": {},
   "source": [
    "Q2. Write a program to print the sum of the first 10 numbers."
   ]
  },
  {
   "cell_type": "code",
   "execution_count": null,
   "id": "b2eab1a0",
   "metadata": {},
   "outputs": [
    {
     "name": "stdout",
     "output_type": "stream",
     "text": [
      "the sum is 55\n"
     ]
    }
   ],
   "source": [
    "sum=0\n",
    "for i in range(11):\n",
    "    sum+=i;\n",
    "print(f\"the sum is {sum}\")"
   ]
  },
  {
   "cell_type": "markdown",
   "id": "f3bcb91e",
   "metadata": {},
   "source": [
    "Q3. Write a program to iterate through a supplied list of 20 numbers and print only those\n",
    "numbers which are divisible by 5."
   ]
  },
  {
   "cell_type": "code",
   "execution_count": 35,
   "id": "31fd9616",
   "metadata": {},
   "outputs": [
    {
     "name": "stdout",
     "output_type": "stream",
     "text": [
      "45\n",
      "80\n",
      "45\n",
      "76554660\n",
      "0\n",
      "90\n",
      "75\n",
      "5675\n"
     ]
    }
   ],
   "source": [
    "array=[]\n",
    "for i in range(20):\n",
    "    num=int(input(\"enter no.:\"))\n",
    "    array.append(num)\n",
    "    \n",
    "for i in range(20):\n",
    "    if(array[i]%5==0):\n",
    "        print(array[i])\n"
   ]
  },
  {
   "cell_type": "markdown",
   "id": "32f95d1f",
   "metadata": {},
   "source": [
    "Q4. Write a program to check if the given number is a palindrome."
   ]
  },
  {
   "cell_type": "code",
   "execution_count": 46,
   "id": "e88a40c0",
   "metadata": {},
   "outputs": [
    {
     "name": "stdout",
     "output_type": "stream",
     "text": [
      "number is palindrome\n"
     ]
    }
   ],
   "source": [
    "def isPalindrome(num):\n",
    "    copy=num\n",
    "    ans=0\n",
    "    rem=0\n",
    "    while copy>0:\n",
    "         rem=copy%10;\n",
    "         ans=ans*10+rem\n",
    "         copy//=10;  \n",
    "    if ans==num:\n",
    "        return 1\n",
    "    else:\n",
    "        return 0\n",
    "\n",
    "num=int(input(\"enter number here:\"))\n",
    "if(isPalindrome(num)):\n",
    "    print(\"number is palindrome\")\n",
    "else:\n",
    "    print(\"not palindrome\")\n"
   ]
  },
  {
   "cell_type": "markdown",
   "id": "9a4960c0",
   "metadata": {},
   "source": [
    "Q5. Write a program to calculate the cube of all numbers from 1 to a given number."
   ]
  },
  {
   "cell_type": "code",
   "execution_count": 50,
   "id": "d7e242ff",
   "metadata": {},
   "outputs": [
    {
     "name": "stdout",
     "output_type": "stream",
     "text": [
      "0\n",
      "1\n",
      "8\n",
      "27\n",
      "64\n",
      "125\n",
      "216\n",
      "343\n",
      "512\n",
      "729\n",
      "1000\n",
      "1331\n",
      "1728\n",
      "2197\n",
      "2744\n",
      "3375\n",
      "4096\n",
      "4913\n",
      "5832\n",
      "6859\n",
      "8000\n",
      "9261\n",
      "10648\n",
      "12167\n",
      "13824\n",
      "15625\n",
      "17576\n",
      "19683\n",
      "21952\n",
      "24389\n",
      "27000\n",
      "29791\n",
      "32768\n",
      "35937\n",
      "39304\n",
      "42875\n",
      "46656\n",
      "50653\n",
      "54872\n",
      "59319\n",
      "64000\n",
      "68921\n",
      "74088\n",
      "79507\n",
      "85184\n",
      "91125\n"
     ]
    }
   ],
   "source": [
    "num=int(input(\"enter your number\"))\n",
    "ans=0\n",
    "i=0\n",
    "while i<=num:\n",
    "    print(i*i*i)\n",
    "    i=i+1"
   ]
  }
 ],
 "metadata": {
  "kernelspec": {
   "display_name": "Python 3",
   "language": "python",
   "name": "python3"
  },
  "language_info": {
   "codemirror_mode": {
    "name": "ipython",
    "version": 3
   },
   "file_extension": ".py",
   "mimetype": "text/x-python",
   "name": "python",
   "nbconvert_exporter": "python",
   "pygments_lexer": "ipython3",
   "version": "3.10.4"
  }
 },
 "nbformat": 4,
 "nbformat_minor": 5
}
